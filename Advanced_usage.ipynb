{
 "cells": [
  {
   "cell_type": "markdown",
   "metadata": {},
   "source": [
    "In this notebook we do some more advanced analysis using data from a 4 GB database"
   ]
  },
  {
   "cell_type": "code",
   "execution_count": 1,
   "metadata": {},
   "outputs": [
    {
     "name": "stdout",
     "output_type": "stream",
     "text": [
      "Version: 1.0\n"
     ]
    }
   ],
   "source": [
    "!pip show HASS-data-detective|grep Version"
   ]
  },
  {
   "cell_type": "code",
   "execution_count": 42,
   "metadata": {},
   "outputs": [],
   "source": [
    "import detective.core as detective\n",
    "import pandas as pd\n",
    "import matplotlib.pyplot as plt\n",
    "import os\n",
    "%matplotlib inline\n",
    "pd.options.mode.chained_assignment = None  # Suppress chained_assignment warning, default='warn'"
   ]
  },
  {
   "cell_type": "code",
   "execution_count": 3,
   "metadata": {},
   "outputs": [],
   "source": [
    "db_path = 'Users/robincole/Documents/Home-assistant_database/home-assistant_v2.db'"
   ]
  },
  {
   "cell_type": "code",
   "execution_count": 4,
   "metadata": {},
   "outputs": [
    {
     "name": "stdout",
     "output_type": "stream",
     "text": [
      "Successfully connected to database sqlite:////Users/robincole/Documents/Home-assistant_database/home-assistant_v2.db\n",
      "There are 17 entities with data\n",
      "CPU times: user 481 ms, sys: 2.54 s, total: 3.02 s\n",
      "Wall time: 13.6 s\n"
     ]
    }
   ],
   "source": [
    "%%time\n",
    "db = detective.HassDatabase('sqlite:////' + db_path) "
   ]
  },
  {
   "cell_type": "code",
   "execution_count": 5,
   "metadata": {},
   "outputs": [
    {
     "data": {
      "text/plain": [
       "['device_tracker',\n",
       " 'binary_sensor',\n",
       " 'input_select',\n",
       " 'persistent_notification',\n",
       " 'sensor',\n",
       " 'sun',\n",
       " 'updater',\n",
       " 'zone',\n",
       " 'remote',\n",
       " 'automation',\n",
       " 'switch',\n",
       " 'alarm_control_panel',\n",
       " 'camera',\n",
       " 'light',\n",
       " 'script',\n",
       " 'group',\n",
       " 'media_player']"
      ]
     },
     "execution_count": 5,
     "metadata": {},
     "output_type": "execute_result"
    }
   ],
   "source": [
    "db.domains"
   ]
  },
  {
   "cell_type": "code",
   "execution_count": 6,
   "metadata": {},
   "outputs": [
    {
     "data": {
      "text/plain": [
       "['binary_sensor.bayesianbinary',\n",
       " 'binary_sensor.bedroom_motion_sensor',\n",
       " 'binary_sensor.blink_armed_status',\n",
       " 'binary_sensor.blink_blink_camera_percy_motion_enabled',\n",
       " 'binary_sensor.hall_motion_sensor',\n",
       " 'binary_sensor.in_bed_bayesian',\n",
       " 'binary_sensor.living_room_motion_sensor',\n",
       " 'binary_sensor.living_room_nest_protect_online',\n",
       " 'binary_sensor.motion_at_home',\n",
       " 'binary_sensor.workday_sensor']"
      ]
     },
     "execution_count": 6,
     "metadata": {},
     "output_type": "execute_result"
    }
   ],
   "source": [
    "db.entities['binary_sensor']"
   ]
  },
  {
   "cell_type": "markdown",
   "metadata": {},
   "source": [
    "## Query all data\n",
    "Data-detective takes care of parsing data from the database, intelligently sorting out numerical and categorical data and formatting them correctly. Use fetch_all_data to import all your db data into a pandas dataframe in memory -> this approach means it can take a while to load the data into memory, but subsequent processing and handling are much faster/easier."
   ]
  },
  {
   "cell_type": "code",
   "execution_count": 7,
   "metadata": {},
   "outputs": [
    {
     "name": "stdout",
     "output_type": "stream",
     "text": [
      "Querying the database, this could take a while\n",
      "master_df created successfully.\n",
      "CPU times: user 17.1 s, sys: 19 s, total: 36.1 s\n",
      "Wall time: 1min 32s\n"
     ]
    }
   ],
   "source": [
    "%%time\n",
    "db.fetch_all_data(limit=1e9) # Pass in a high limit to return all data"
   ]
  },
  {
   "cell_type": "markdown",
   "metadata": {},
   "source": [
    "The unprocessed dataframe is in the `master_df` attribute"
   ]
  },
  {
   "cell_type": "code",
   "execution_count": 11,
   "metadata": {},
   "outputs": [
    {
     "data": {
      "text/plain": [
       "'There are 2.164542 million rows of data in the database'"
      ]
     },
     "execution_count": 11,
     "metadata": {},
     "output_type": "execute_result"
    }
   ],
   "source": [
    "f\"There are {db.master_df.shape[0]/1e6} million rows of data in the database\""
   ]
  },
  {
   "cell_type": "markdown",
   "metadata": {},
   "source": [
    "## Numerical sensor data\n",
    "We now do additional processing to put numerical sensor data into its own dataframe"
   ]
  },
  {
   "cell_type": "code",
   "execution_count": 15,
   "metadata": {},
   "outputs": [],
   "source": [
    "sensors_num = detective.NumericalSensors(db.master_df)"
   ]
  },
  {
   "cell_type": "code",
   "execution_count": 23,
   "metadata": {},
   "outputs": [
    {
     "data": {
      "text/plain": [
       "'There are 0.263066 million rows of data in the sensors_num dataframe'"
      ]
     },
     "execution_count": 23,
     "metadata": {},
     "output_type": "execute_result"
    }
   ],
   "source": [
    "f\"There are {sensors_num.data.shape[0]/1e6} million rows of data in the sensors_num dataframe\""
   ]
  },
  {
   "cell_type": "code",
   "execution_count": 18,
   "metadata": {},
   "outputs": [
    {
     "data": {
      "text/html": [
       "<div>\n",
       "<style scoped>\n",
       "    .dataframe tbody tr th:only-of-type {\n",
       "        vertical-align: middle;\n",
       "    }\n",
       "\n",
       "    .dataframe tbody tr th {\n",
       "        vertical-align: top;\n",
       "    }\n",
       "\n",
       "    .dataframe thead th {\n",
       "        text-align: right;\n",
       "    }\n",
       "</style>\n",
       "<table border=\"1\" class=\"dataframe\">\n",
       "  <thead>\n",
       "    <tr style=\"text-align: right;\">\n",
       "      <th>entity</th>\n",
       "      <th>sensor.average_indoor_temp</th>\n",
       "      <th>sensor.bedroom_light_sensor</th>\n",
       "      <th>sensor.bedroom_temperature</th>\n",
       "      <th>sensor.blink_blink_camera_percy_notifications</th>\n",
       "      <th>sensor.blink_blink_camera_percy_temperature</th>\n",
       "      <th>sensor.bme680air_qual</th>\n",
       "      <th>sensor.bme680humidity</th>\n",
       "      <th>sensor.bme680pressure</th>\n",
       "      <th>sensor.bme680temperature</th>\n",
       "      <th>sensor.breaches_fredallcardgmailcom</th>\n",
       "      <th>...</th>\n",
       "      <th>sensor.next_train_to_wat</th>\n",
       "      <th>sensor.next_train_to_wim</th>\n",
       "      <th>sensor.remote_living_room_button</th>\n",
       "      <th>sensor.robins_iphone_battery_level</th>\n",
       "      <th>sensor.speedtest_download</th>\n",
       "      <th>sensor.volume_used_volume_1</th>\n",
       "      <th>sensor.wipy_humidity</th>\n",
       "      <th>sensor.wipy_memory</th>\n",
       "      <th>sensor.wipy_temperature</th>\n",
       "      <th>sensor.work_to_home</th>\n",
       "    </tr>\n",
       "    <tr>\n",
       "      <th>last_changed</th>\n",
       "      <th></th>\n",
       "      <th></th>\n",
       "      <th></th>\n",
       "      <th></th>\n",
       "      <th></th>\n",
       "      <th></th>\n",
       "      <th></th>\n",
       "      <th></th>\n",
       "      <th></th>\n",
       "      <th></th>\n",
       "      <th></th>\n",
       "      <th></th>\n",
       "      <th></th>\n",
       "      <th></th>\n",
       "      <th></th>\n",
       "      <th></th>\n",
       "      <th></th>\n",
       "      <th></th>\n",
       "      <th></th>\n",
       "      <th></th>\n",
       "      <th></th>\n",
       "    </tr>\n",
       "  </thead>\n",
       "  <tbody>\n",
       "    <tr>\n",
       "      <th>2017-10-28 06:48:00.143377</th>\n",
       "      <td>20.2</td>\n",
       "      <td>15621.0</td>\n",
       "      <td>18.89</td>\n",
       "      <td>1.0</td>\n",
       "      <td>21.0</td>\n",
       "      <td>98.51</td>\n",
       "      <td>43.58</td>\n",
       "      <td>1033.93</td>\n",
       "      <td>21.07</td>\n",
       "      <td>0.0</td>\n",
       "      <td>...</td>\n",
       "      <td>1125.0</td>\n",
       "      <td>87.0</td>\n",
       "      <td>1002.0</td>\n",
       "      <td>94.0</td>\n",
       "      <td>36.37</td>\n",
       "      <td>20.7</td>\n",
       "      <td>14.0</td>\n",
       "      <td>38112.0</td>\n",
       "      <td>32.0</td>\n",
       "      <td>25.0</td>\n",
       "    </tr>\n",
       "    <tr>\n",
       "      <th>2017-10-28 06:48:01.060922</th>\n",
       "      <td>20.2</td>\n",
       "      <td>15621.0</td>\n",
       "      <td>18.89</td>\n",
       "      <td>1.0</td>\n",
       "      <td>21.0</td>\n",
       "      <td>98.51</td>\n",
       "      <td>43.50</td>\n",
       "      <td>1033.93</td>\n",
       "      <td>21.07</td>\n",
       "      <td>0.0</td>\n",
       "      <td>...</td>\n",
       "      <td>1125.0</td>\n",
       "      <td>87.0</td>\n",
       "      <td>1002.0</td>\n",
       "      <td>94.0</td>\n",
       "      <td>36.37</td>\n",
       "      <td>20.7</td>\n",
       "      <td>14.0</td>\n",
       "      <td>38112.0</td>\n",
       "      <td>32.0</td>\n",
       "      <td>25.0</td>\n",
       "    </tr>\n",
       "    <tr>\n",
       "      <th>2017-10-28 06:48:01.069416</th>\n",
       "      <td>20.2</td>\n",
       "      <td>15621.0</td>\n",
       "      <td>18.89</td>\n",
       "      <td>1.0</td>\n",
       "      <td>21.0</td>\n",
       "      <td>98.51</td>\n",
       "      <td>43.50</td>\n",
       "      <td>1033.93</td>\n",
       "      <td>21.06</td>\n",
       "      <td>0.0</td>\n",
       "      <td>...</td>\n",
       "      <td>1125.0</td>\n",
       "      <td>87.0</td>\n",
       "      <td>1002.0</td>\n",
       "      <td>94.0</td>\n",
       "      <td>36.37</td>\n",
       "      <td>20.7</td>\n",
       "      <td>14.0</td>\n",
       "      <td>38112.0</td>\n",
       "      <td>32.0</td>\n",
       "      <td>25.0</td>\n",
       "    </tr>\n",
       "    <tr>\n",
       "      <th>2017-10-28 06:48:01.076784</th>\n",
       "      <td>20.2</td>\n",
       "      <td>15621.0</td>\n",
       "      <td>18.89</td>\n",
       "      <td>1.0</td>\n",
       "      <td>21.0</td>\n",
       "      <td>98.51</td>\n",
       "      <td>43.50</td>\n",
       "      <td>1033.95</td>\n",
       "      <td>21.06</td>\n",
       "      <td>0.0</td>\n",
       "      <td>...</td>\n",
       "      <td>1125.0</td>\n",
       "      <td>87.0</td>\n",
       "      <td>1002.0</td>\n",
       "      <td>94.0</td>\n",
       "      <td>36.37</td>\n",
       "      <td>20.7</td>\n",
       "      <td>14.0</td>\n",
       "      <td>38112.0</td>\n",
       "      <td>32.0</td>\n",
       "      <td>25.0</td>\n",
       "    </tr>\n",
       "    <tr>\n",
       "      <th>2017-10-28 06:48:01.079950</th>\n",
       "      <td>20.2</td>\n",
       "      <td>15621.0</td>\n",
       "      <td>18.89</td>\n",
       "      <td>1.0</td>\n",
       "      <td>21.0</td>\n",
       "      <td>98.54</td>\n",
       "      <td>43.50</td>\n",
       "      <td>1033.95</td>\n",
       "      <td>21.06</td>\n",
       "      <td>0.0</td>\n",
       "      <td>...</td>\n",
       "      <td>1125.0</td>\n",
       "      <td>87.0</td>\n",
       "      <td>1002.0</td>\n",
       "      <td>94.0</td>\n",
       "      <td>36.37</td>\n",
       "      <td>20.7</td>\n",
       "      <td>14.0</td>\n",
       "      <td>38112.0</td>\n",
       "      <td>32.0</td>\n",
       "      <td>25.0</td>\n",
       "    </tr>\n",
       "  </tbody>\n",
       "</table>\n",
       "<p>5 rows × 52 columns</p>\n",
       "</div>"
      ],
      "text/plain": [
       "entity                      sensor.average_indoor_temp  \\\n",
       "last_changed                                             \n",
       "2017-10-28 06:48:00.143377                        20.2   \n",
       "2017-10-28 06:48:01.060922                        20.2   \n",
       "2017-10-28 06:48:01.069416                        20.2   \n",
       "2017-10-28 06:48:01.076784                        20.2   \n",
       "2017-10-28 06:48:01.079950                        20.2   \n",
       "\n",
       "entity                      sensor.bedroom_light_sensor  \\\n",
       "last_changed                                              \n",
       "2017-10-28 06:48:00.143377                      15621.0   \n",
       "2017-10-28 06:48:01.060922                      15621.0   \n",
       "2017-10-28 06:48:01.069416                      15621.0   \n",
       "2017-10-28 06:48:01.076784                      15621.0   \n",
       "2017-10-28 06:48:01.079950                      15621.0   \n",
       "\n",
       "entity                      sensor.bedroom_temperature  \\\n",
       "last_changed                                             \n",
       "2017-10-28 06:48:00.143377                       18.89   \n",
       "2017-10-28 06:48:01.060922                       18.89   \n",
       "2017-10-28 06:48:01.069416                       18.89   \n",
       "2017-10-28 06:48:01.076784                       18.89   \n",
       "2017-10-28 06:48:01.079950                       18.89   \n",
       "\n",
       "entity                      sensor.blink_blink_camera_percy_notifications  \\\n",
       "last_changed                                                                \n",
       "2017-10-28 06:48:00.143377                                            1.0   \n",
       "2017-10-28 06:48:01.060922                                            1.0   \n",
       "2017-10-28 06:48:01.069416                                            1.0   \n",
       "2017-10-28 06:48:01.076784                                            1.0   \n",
       "2017-10-28 06:48:01.079950                                            1.0   \n",
       "\n",
       "entity                      sensor.blink_blink_camera_percy_temperature  \\\n",
       "last_changed                                                              \n",
       "2017-10-28 06:48:00.143377                                         21.0   \n",
       "2017-10-28 06:48:01.060922                                         21.0   \n",
       "2017-10-28 06:48:01.069416                                         21.0   \n",
       "2017-10-28 06:48:01.076784                                         21.0   \n",
       "2017-10-28 06:48:01.079950                                         21.0   \n",
       "\n",
       "entity                      sensor.bme680air_qual  sensor.bme680humidity  \\\n",
       "last_changed                                                               \n",
       "2017-10-28 06:48:00.143377                  98.51                  43.58   \n",
       "2017-10-28 06:48:01.060922                  98.51                  43.50   \n",
       "2017-10-28 06:48:01.069416                  98.51                  43.50   \n",
       "2017-10-28 06:48:01.076784                  98.51                  43.50   \n",
       "2017-10-28 06:48:01.079950                  98.54                  43.50   \n",
       "\n",
       "entity                      sensor.bme680pressure  sensor.bme680temperature  \\\n",
       "last_changed                                                                  \n",
       "2017-10-28 06:48:00.143377                1033.93                     21.07   \n",
       "2017-10-28 06:48:01.060922                1033.93                     21.07   \n",
       "2017-10-28 06:48:01.069416                1033.93                     21.06   \n",
       "2017-10-28 06:48:01.076784                1033.95                     21.06   \n",
       "2017-10-28 06:48:01.079950                1033.95                     21.06   \n",
       "\n",
       "entity                      sensor.breaches_fredallcardgmailcom  \\\n",
       "last_changed                                                      \n",
       "2017-10-28 06:48:00.143377                                  0.0   \n",
       "2017-10-28 06:48:01.060922                                  0.0   \n",
       "2017-10-28 06:48:01.069416                                  0.0   \n",
       "2017-10-28 06:48:01.076784                                  0.0   \n",
       "2017-10-28 06:48:01.079950                                  0.0   \n",
       "\n",
       "entity                             ...           sensor.next_train_to_wat  \\\n",
       "last_changed                       ...                                      \n",
       "2017-10-28 06:48:00.143377         ...                             1125.0   \n",
       "2017-10-28 06:48:01.060922         ...                             1125.0   \n",
       "2017-10-28 06:48:01.069416         ...                             1125.0   \n",
       "2017-10-28 06:48:01.076784         ...                             1125.0   \n",
       "2017-10-28 06:48:01.079950         ...                             1125.0   \n",
       "\n",
       "entity                      sensor.next_train_to_wim  \\\n",
       "last_changed                                           \n",
       "2017-10-28 06:48:00.143377                      87.0   \n",
       "2017-10-28 06:48:01.060922                      87.0   \n",
       "2017-10-28 06:48:01.069416                      87.0   \n",
       "2017-10-28 06:48:01.076784                      87.0   \n",
       "2017-10-28 06:48:01.079950                      87.0   \n",
       "\n",
       "entity                      sensor.remote_living_room_button  \\\n",
       "last_changed                                                   \n",
       "2017-10-28 06:48:00.143377                            1002.0   \n",
       "2017-10-28 06:48:01.060922                            1002.0   \n",
       "2017-10-28 06:48:01.069416                            1002.0   \n",
       "2017-10-28 06:48:01.076784                            1002.0   \n",
       "2017-10-28 06:48:01.079950                            1002.0   \n",
       "\n",
       "entity                      sensor.robins_iphone_battery_level  \\\n",
       "last_changed                                                     \n",
       "2017-10-28 06:48:00.143377                                94.0   \n",
       "2017-10-28 06:48:01.060922                                94.0   \n",
       "2017-10-28 06:48:01.069416                                94.0   \n",
       "2017-10-28 06:48:01.076784                                94.0   \n",
       "2017-10-28 06:48:01.079950                                94.0   \n",
       "\n",
       "entity                      sensor.speedtest_download  \\\n",
       "last_changed                                            \n",
       "2017-10-28 06:48:00.143377                      36.37   \n",
       "2017-10-28 06:48:01.060922                      36.37   \n",
       "2017-10-28 06:48:01.069416                      36.37   \n",
       "2017-10-28 06:48:01.076784                      36.37   \n",
       "2017-10-28 06:48:01.079950                      36.37   \n",
       "\n",
       "entity                      sensor.volume_used_volume_1  sensor.wipy_humidity  \\\n",
       "last_changed                                                                    \n",
       "2017-10-28 06:48:00.143377                         20.7                  14.0   \n",
       "2017-10-28 06:48:01.060922                         20.7                  14.0   \n",
       "2017-10-28 06:48:01.069416                         20.7                  14.0   \n",
       "2017-10-28 06:48:01.076784                         20.7                  14.0   \n",
       "2017-10-28 06:48:01.079950                         20.7                  14.0   \n",
       "\n",
       "entity                      sensor.wipy_memory  sensor.wipy_temperature  \\\n",
       "last_changed                                                              \n",
       "2017-10-28 06:48:00.143377             38112.0                     32.0   \n",
       "2017-10-28 06:48:01.060922             38112.0                     32.0   \n",
       "2017-10-28 06:48:01.069416             38112.0                     32.0   \n",
       "2017-10-28 06:48:01.076784             38112.0                     32.0   \n",
       "2017-10-28 06:48:01.079950             38112.0                     32.0   \n",
       "\n",
       "entity                      sensor.work_to_home  \n",
       "last_changed                                     \n",
       "2017-10-28 06:48:00.143377                 25.0  \n",
       "2017-10-28 06:48:01.060922                 25.0  \n",
       "2017-10-28 06:48:01.069416                 25.0  \n",
       "2017-10-28 06:48:01.076784                 25.0  \n",
       "2017-10-28 06:48:01.079950                 25.0  \n",
       "\n",
       "[5 rows x 52 columns]"
      ]
     },
     "execution_count": 18,
     "metadata": {},
     "output_type": "execute_result"
    }
   ],
   "source": [
    "sensors_num.data.head()"
   ]
  },
  {
   "cell_type": "markdown",
   "metadata": {},
   "source": [
    "Lets plot a few entities"
   ]
  },
  {
   "cell_type": "code",
   "execution_count": 21,
   "metadata": {},
   "outputs": [
    {
     "data": {
      "image/png": "[encoded data removed]",
      "text/plain": [
       "<Figure size 864x432 with 1 Axes>"
      ]
     },
     "metadata": {},
     "output_type": "display_data"
    }
   ],
   "source": [
    "to_plot = ['sensor.living_room_temperature',\n",
    "           'sensor.bedroom_temperature',\n",
    "           'sensor.darksky_sensor_temperature']\n",
    "\n",
    "sensors_num.plot(to_plot)"
   ]
  },
  {
   "cell_type": "markdown",
   "metadata": {},
   "source": [
    "We can export the dataframe to a csv"
   ]
  },
  {
   "cell_type": "code",
   "execution_count": 44,
   "metadata": {},
   "outputs": [],
   "source": [
    "sensors_num.data.to_csv('data/sensors_num.csv')"
   ]
  },
  {
   "cell_type": "code",
   "execution_count": 48,
   "metadata": {},
   "outputs": [
    {
     "data": {
      "text/plain": [
       "'Exporting all the numerical data to csv created a file of size 85.614508 MB'"
      ]
     },
     "execution_count": 48,
     "metadata": {},
     "output_type": "execute_result"
    }
   ],
   "source": [
    "f\"Exporting all the numerical data to csv created a file of size {os.stat('data/sensors_num.csv').st_size/1e6} MB\""
   ]
  },
  {
   "cell_type": "markdown",
   "metadata": {},
   "source": [
    "We can push files [up to 100MB](https://help.github.com/articles/what-is-my-disk-quota/) to Github"
   ]
  },
  {
   "cell_type": "markdown",
   "metadata": {},
   "source": [
    "## Binary data\n",
    "The BinarySensors class is for binary sensor data with on/off states."
   ]
  },
  {
   "cell_type": "code",
   "execution_count": 22,
   "metadata": {},
   "outputs": [],
   "source": [
    "sensors_binary = detective.BinarySensors(db.master_df)"
   ]
  },
  {
   "cell_type": "code",
   "execution_count": 25,
   "metadata": {},
   "outputs": [
    {
     "data": {
      "text/plain": [
       "'There are 75.561 thousand rows of data in the sensors_binary dataframe'"
      ]
     },
     "execution_count": 25,
     "metadata": {},
     "output_type": "execute_result"
    }
   ],
   "source": [
    "f\"There are {sensors_binary.data.shape[0]/1e3} thousand rows of data in the sensors_binary dataframe\""
   ]
  },
  {
   "cell_type": "code",
   "execution_count": 26,
   "metadata": {},
   "outputs": [
    {
     "data": {
      "text/plain": [
       "['binary_sensor.motion_at_home',\n",
       " 'binary_sensor.workday_sensor',\n",
       " 'binary_sensor.blink_blink_camera_percy_motion_enabled',\n",
       " 'binary_sensor.blink_armed_status',\n",
       " 'binary_sensor.living_room_nest_protect_online',\n",
       " 'binary_sensor.in_bed_bayesian',\n",
       " 'binary_sensor.bayesianbinary',\n",
       " 'binary_sensor.living_room_motion_sensor',\n",
       " 'binary_sensor.bedroom_motion_sensor',\n",
       " 'binary_sensor.hall_motion_sensor']"
      ]
     },
     "execution_count": 26,
     "metadata": {},
     "output_type": "execute_result"
    }
   ],
   "source": [
    "sensors_binary.entities"
   ]
  },
  {
   "cell_type": "markdown",
   "metadata": {},
   "source": [
    "Currently we can plot a single binary sensor with the plot() method"
   ]
  },
  {
   "cell_type": "code",
   "execution_count": 27,
   "metadata": {},
   "outputs": [
    {
     "data": {
      "image/png": "[encoded data removed]",
      "text/plain": [
       "<Figure size 1152x144 with 1 Axes>"
      ]
     },
     "metadata": {},
     "output_type": "display_data"
    }
   ],
   "source": [
    "sensors_binary.plot('binary_sensor.motion_at_home')"
   ]
  },
  {
   "cell_type": "markdown",
   "metadata": {},
   "source": [
    "Lets create a csv for the binary dataframe also"
   ]
  },
  {
   "cell_type": "code",
   "execution_count": 49,
   "metadata": {},
   "outputs": [],
   "source": [
    "sensors_binary.data.to_csv('data/sensors_binary.csv')"
   ]
  },
  {
   "cell_type": "markdown",
   "metadata": {},
   "source": [
    "## Day of week analysis\n",
    "Lets analyse the `motion_at_home,` create some features for day of week and time category, then analyse motion by these features."
   ]
  },
  {
   "cell_type": "code",
   "execution_count": 29,
   "metadata": {},
   "outputs": [],
   "source": [
    "motion_df = sensors_binary.data[['binary_sensor.motion_at_home']] # Must pass a list to return correctly indexed df"
   ]
  },
  {
   "cell_type": "code",
   "execution_count": 32,
   "metadata": {},
   "outputs": [
    {
     "data": {
      "text/html": [
       "<div>\n",
       "<style scoped>\n",
       "    .dataframe tbody tr th:only-of-type {\n",
       "        vertical-align: middle;\n",
       "    }\n",
       "\n",
       "    .dataframe tbody tr th {\n",
       "        vertical-align: top;\n",
       "    }\n",
       "\n",
       "    .dataframe thead th {\n",
       "        text-align: right;\n",
       "    }\n",
       "</style>\n",
       "<table border=\"1\" class=\"dataframe\">\n",
       "  <thead>\n",
       "    <tr style=\"text-align: right;\">\n",
       "      <th>entity</th>\n",
       "      <th>binary_sensor.motion_at_home</th>\n",
       "    </tr>\n",
       "    <tr>\n",
       "      <th>last_changed</th>\n",
       "      <th></th>\n",
       "    </tr>\n",
       "  </thead>\n",
       "  <tbody>\n",
       "    <tr>\n",
       "      <th>2017-07-11 10:28:17.460144</th>\n",
       "      <td>NaN</td>\n",
       "    </tr>\n",
       "    <tr>\n",
       "      <th>2017-07-11 10:28:18.898022</th>\n",
       "      <td>NaN</td>\n",
       "    </tr>\n",
       "    <tr>\n",
       "      <th>2017-07-11 10:28:18.951186</th>\n",
       "      <td>NaN</td>\n",
       "    </tr>\n",
       "    <tr>\n",
       "      <th>2017-07-11 10:28:19.047789</th>\n",
       "      <td>NaN</td>\n",
       "    </tr>\n",
       "    <tr>\n",
       "      <th>2017-07-11 12:00:03.023620</th>\n",
       "      <td>NaN</td>\n",
       "    </tr>\n",
       "  </tbody>\n",
       "</table>\n",
       "</div>"
      ],
      "text/plain": [
       "entity                     binary_sensor.motion_at_home\n",
       "last_changed                                           \n",
       "2017-07-11 10:28:17.460144                          NaN\n",
       "2017-07-11 10:28:18.898022                          NaN\n",
       "2017-07-11 10:28:18.951186                          NaN\n",
       "2017-07-11 10:28:19.047789                          NaN\n",
       "2017-07-11 12:00:03.023620                          NaN"
      ]
     },
     "execution_count": 32,
     "metadata": {},
     "output_type": "execute_result"
    }
   ],
   "source": [
    "motion_df.head()"
   ]
  },
  {
   "cell_type": "markdown",
   "metadata": {},
   "source": [
    "We create our first feature `weekday` from the index"
   ]
  },
  {
   "cell_type": "code",
   "execution_count": 33,
   "metadata": {},
   "outputs": [],
   "source": [
    "motion_df['weekday'] = motion_df.index.weekday_name"
   ]
  },
  {
   "cell_type": "code",
   "execution_count": 34,
   "metadata": {},
   "outputs": [
    {
     "data": {
      "text/html": [
       "<div>\n",
       "<style scoped>\n",
       "    .dataframe tbody tr th:only-of-type {\n",
       "        vertical-align: middle;\n",
       "    }\n",
       "\n",
       "    .dataframe tbody tr th {\n",
       "        vertical-align: top;\n",
       "    }\n",
       "\n",
       "    .dataframe thead th {\n",
       "        text-align: right;\n",
       "    }\n",
       "</style>\n",
       "<table border=\"1\" class=\"dataframe\">\n",
       "  <thead>\n",
       "    <tr style=\"text-align: right;\">\n",
       "      <th>entity</th>\n",
       "      <th>binary_sensor.motion_at_home</th>\n",
       "      <th>weekday</th>\n",
       "    </tr>\n",
       "    <tr>\n",
       "      <th>last_changed</th>\n",
       "      <th></th>\n",
       "      <th></th>\n",
       "    </tr>\n",
       "  </thead>\n",
       "  <tbody>\n",
       "    <tr>\n",
       "      <th>2017-07-11 10:28:17.460144</th>\n",
       "      <td>NaN</td>\n",
       "      <td>Tuesday</td>\n",
       "    </tr>\n",
       "    <tr>\n",
       "      <th>2017-07-11 10:28:18.898022</th>\n",
       "      <td>NaN</td>\n",
       "      <td>Tuesday</td>\n",
       "    </tr>\n",
       "    <tr>\n",
       "      <th>2017-07-11 10:28:18.951186</th>\n",
       "      <td>NaN</td>\n",
       "      <td>Tuesday</td>\n",
       "    </tr>\n",
       "    <tr>\n",
       "      <th>2017-07-11 10:28:19.047789</th>\n",
       "      <td>NaN</td>\n",
       "      <td>Tuesday</td>\n",
       "    </tr>\n",
       "    <tr>\n",
       "      <th>2017-07-11 12:00:03.023620</th>\n",
       "      <td>NaN</td>\n",
       "      <td>Tuesday</td>\n",
       "    </tr>\n",
       "  </tbody>\n",
       "</table>\n",
       "</div>"
      ],
      "text/plain": [
       "entity                     binary_sensor.motion_at_home  weekday\n",
       "last_changed                                                    \n",
       "2017-07-11 10:28:17.460144                          NaN  Tuesday\n",
       "2017-07-11 10:28:18.898022                          NaN  Tuesday\n",
       "2017-07-11 10:28:18.951186                          NaN  Tuesday\n",
       "2017-07-11 10:28:19.047789                          NaN  Tuesday\n",
       "2017-07-11 12:00:03.023620                          NaN  Tuesday"
      ]
     },
     "execution_count": 34,
     "metadata": {},
     "output_type": "execute_result"
    }
   ],
   "source": [
    "motion_df.head()"
   ]
  },
  {
   "cell_type": "markdown",
   "metadata": {},
   "source": [
    "Detective has a couple of helpers to create additional features"
   ]
  },
  {
   "cell_type": "code",
   "execution_count": 35,
   "metadata": {},
   "outputs": [],
   "source": [
    "from detective.time import is_weekday, time_category"
   ]
  },
  {
   "cell_type": "code",
   "execution_count": 36,
   "metadata": {},
   "outputs": [],
   "source": [
    "motion_df['is_weekday'] = motion_df.index.map(lambda x: is_weekday(x))"
   ]
  },
  {
   "cell_type": "code",
   "execution_count": 37,
   "metadata": {},
   "outputs": [],
   "source": [
    "motion_df['time_category'] = motion_df.index.map(lambda x: time_category(x))"
   ]
  },
  {
   "cell_type": "markdown",
   "metadata": {},
   "source": [
    "Lets keep only true detection events"
   ]
  },
  {
   "cell_type": "code",
   "execution_count": 38,
   "metadata": {},
   "outputs": [],
   "source": [
    "motion_df = motion_df[motion_df['binary_sensor.motion_at_home'] == True]"
   ]
  },
  {
   "cell_type": "markdown",
   "metadata": {},
   "source": [
    "We can now see the new features in the dataframe"
   ]
  },
  {
   "cell_type": "code",
   "execution_count": 39,
   "metadata": {},
   "outputs": [
    {
     "data": {
      "text/html": [
       "<div>\n",
       "<style scoped>\n",
       "    .dataframe tbody tr th:only-of-type {\n",
       "        vertical-align: middle;\n",
       "    }\n",
       "\n",
       "    .dataframe tbody tr th {\n",
       "        vertical-align: top;\n",
       "    }\n",
       "\n",
       "    .dataframe thead th {\n",
       "        text-align: right;\n",
       "    }\n",
       "</style>\n",
       "<table border=\"1\" class=\"dataframe\">\n",
       "  <thead>\n",
       "    <tr style=\"text-align: right;\">\n",
       "      <th>entity</th>\n",
       "      <th>binary_sensor.motion_at_home</th>\n",
       "      <th>weekday</th>\n",
       "      <th>is_weekday</th>\n",
       "      <th>time_category</th>\n",
       "    </tr>\n",
       "    <tr>\n",
       "      <th>last_changed</th>\n",
       "      <th></th>\n",
       "      <th></th>\n",
       "      <th></th>\n",
       "      <th></th>\n",
       "    </tr>\n",
       "  </thead>\n",
       "  <tbody>\n",
       "    <tr>\n",
       "      <th>2017-08-07 20:08:17.810800</th>\n",
       "      <td>True</td>\n",
       "      <td>Monday</td>\n",
       "      <td>True</td>\n",
       "      <td>evening</td>\n",
       "    </tr>\n",
       "    <tr>\n",
       "      <th>2017-08-07 20:08:26.921077</th>\n",
       "      <td>True</td>\n",
       "      <td>Monday</td>\n",
       "      <td>True</td>\n",
       "      <td>evening</td>\n",
       "    </tr>\n",
       "    <tr>\n",
       "      <th>2017-08-07 20:10:20.017217</th>\n",
       "      <td>True</td>\n",
       "      <td>Monday</td>\n",
       "      <td>True</td>\n",
       "      <td>evening</td>\n",
       "    </tr>\n",
       "    <tr>\n",
       "      <th>2017-08-07 20:11:31.024414</th>\n",
       "      <td>True</td>\n",
       "      <td>Monday</td>\n",
       "      <td>True</td>\n",
       "      <td>evening</td>\n",
       "    </tr>\n",
       "    <tr>\n",
       "      <th>2017-08-07 20:12:02.027471</th>\n",
       "      <td>True</td>\n",
       "      <td>Monday</td>\n",
       "      <td>True</td>\n",
       "      <td>evening</td>\n",
       "    </tr>\n",
       "  </tbody>\n",
       "</table>\n",
       "</div>"
      ],
      "text/plain": [
       "entity                     binary_sensor.motion_at_home weekday is_weekday  \\\n",
       "last_changed                                                                 \n",
       "2017-08-07 20:08:17.810800                         True  Monday       True   \n",
       "2017-08-07 20:08:26.921077                         True  Monday       True   \n",
       "2017-08-07 20:10:20.017217                         True  Monday       True   \n",
       "2017-08-07 20:11:31.024414                         True  Monday       True   \n",
       "2017-08-07 20:12:02.027471                         True  Monday       True   \n",
       "\n",
       "entity                     time_category  \n",
       "last_changed                              \n",
       "2017-08-07 20:08:17.810800       evening  \n",
       "2017-08-07 20:08:26.921077       evening  \n",
       "2017-08-07 20:10:20.017217       evening  \n",
       "2017-08-07 20:11:31.024414       evening  \n",
       "2017-08-07 20:12:02.027471       evening  "
      ]
     },
     "execution_count": 39,
     "metadata": {},
     "output_type": "execute_result"
    }
   ],
   "source": [
    "motion_df.head()"
   ]
  },
  {
   "cell_type": "markdown",
   "metadata": {},
   "source": [
    "We can now use a `groupby` operation to get the number of motion counts per day"
   ]
  },
  {
   "cell_type": "code",
   "execution_count": 40,
   "metadata": {},
   "outputs": [
    {
     "data": {
      "text/html": [
       "<div>\n",
       "<style scoped>\n",
       "    .dataframe tbody tr th:only-of-type {\n",
       "        vertical-align: middle;\n",
       "    }\n",
       "\n",
       "    .dataframe tbody tr th {\n",
       "        vertical-align: top;\n",
       "    }\n",
       "\n",
       "    .dataframe thead th {\n",
       "        text-align: right;\n",
       "    }\n",
       "</style>\n",
       "<table border=\"1\" class=\"dataframe\">\n",
       "  <thead>\n",
       "    <tr style=\"text-align: right;\">\n",
       "      <th>weekday</th>\n",
       "      <th>Friday</th>\n",
       "      <th>Monday</th>\n",
       "      <th>Saturday</th>\n",
       "      <th>Sunday</th>\n",
       "      <th>Thursday</th>\n",
       "      <th>Tuesday</th>\n",
       "      <th>Wednesday</th>\n",
       "    </tr>\n",
       "    <tr>\n",
       "      <th>time_category</th>\n",
       "      <th></th>\n",
       "      <th></th>\n",
       "      <th></th>\n",
       "      <th></th>\n",
       "      <th></th>\n",
       "      <th></th>\n",
       "      <th></th>\n",
       "    </tr>\n",
       "  </thead>\n",
       "  <tbody>\n",
       "    <tr>\n",
       "      <th>daytime</th>\n",
       "      <td>1000</td>\n",
       "      <td>690</td>\n",
       "      <td>962</td>\n",
       "      <td>631</td>\n",
       "      <td>844</td>\n",
       "      <td>880</td>\n",
       "      <td>800</td>\n",
       "    </tr>\n",
       "    <tr>\n",
       "      <th>evening</th>\n",
       "      <td>394</td>\n",
       "      <td>599</td>\n",
       "      <td>239</td>\n",
       "      <td>496</td>\n",
       "      <td>453</td>\n",
       "      <td>532</td>\n",
       "      <td>545</td>\n",
       "    </tr>\n",
       "    <tr>\n",
       "      <th>morning</th>\n",
       "      <td>839</td>\n",
       "      <td>688</td>\n",
       "      <td>1047</td>\n",
       "      <td>833</td>\n",
       "      <td>664</td>\n",
       "      <td>655</td>\n",
       "      <td>619</td>\n",
       "    </tr>\n",
       "    <tr>\n",
       "      <th>night</th>\n",
       "      <td>92</td>\n",
       "      <td>93</td>\n",
       "      <td>131</td>\n",
       "      <td>113</td>\n",
       "      <td>163</td>\n",
       "      <td>149</td>\n",
       "      <td>163</td>\n",
       "    </tr>\n",
       "  </tbody>\n",
       "</table>\n",
       "</div>"
      ],
      "text/plain": [
       "weekday        Friday  Monday  Saturday  Sunday  Thursday  Tuesday  Wednesday\n",
       "time_category                                                                \n",
       "daytime          1000     690       962     631       844      880        800\n",
       "evening           394     599       239     496       453      532        545\n",
       "morning           839     688      1047     833       664      655        619\n",
       "night              92      93       131     113       163      149        163"
      ]
     },
     "execution_count": 40,
     "metadata": {},
     "output_type": "execute_result"
    }
   ],
   "source": [
    "motion_df_gb = motion_df['binary_sensor.motion_at_home'].groupby([motion_df['weekday'], motion_df['time_category']]).sum().unstack()\n",
    "motion_df_gb.fillna(value=0, inplace=True)   # Replace NaN with 0\n",
    "motion_df_gb = motion_df_gb.astype('int')              # Ints rather than floats\n",
    "motion_df_gb = motion_df_gb.T\n",
    "motion_df_gb"
   ]
  },
  {
   "cell_type": "markdown",
   "metadata": {},
   "source": [
    "Finally we can use seaborn to visualise this data"
   ]
  },
  {
   "cell_type": "code",
   "execution_count": 43,
   "metadata": {},
   "outputs": [
    {
     "data": {
      "text/plain": [
       "Text(0.5,1,'Activity at home by day and time category')"
      ]
     },
     "execution_count": 43,
     "metadata": {},
     "output_type": "execute_result"
    },
    {
     "data": {
      "image/png": "[encoded data removed]",
      "text/plain": [
       "<Figure size 1008x432 with 2 Axes>"
      ]
     },
     "metadata": {},
     "output_type": "display_data"
    }
   ],
   "source": [
    "import seaborn as sns\n",
    "fig, ax = plt.subplots(figsize=(14, 6))\n",
    "days_list = ['Monday', 'Tuesday', 'Wednesday', 'Thursday', 'Friday', 'Saturday', 'Sunday']\n",
    "times_list = ['morning', 'daytime', 'evening', 'night']\n",
    "ax = sns.heatmap(motion_df_gb[days_list].loc[times_list], annot=True, linewidths=.5, fmt=\"d\", ax=ax, cmap='Reds');\n",
    "ax.set_title('Activity at home by day and time category')"
   ]
  },
  {
   "cell_type": "markdown",
   "metadata": {},
   "source": [
    "We see that Saturday morning there was a lot of activity at home, which is usually when I do weekly chores such as hoovering"
   ]
  },
  {
   "cell_type": "code",
   "execution_count": null,
   "metadata": {},
   "outputs": [],
   "source": []
  }
 ],
 "metadata": {
  "kernelspec": {
   "display_name": "Python 3",
   "language": "python",
   "name": "python3"
  },
  "language_info": {
   "codemirror_mode": {
    "name": "ipython",
    "version": 3
   },
   "file_extension": ".py",
   "mimetype": "text/x-python",
   "name": "python",
   "nbconvert_exporter": "python",
   "pygments_lexer": "ipython3",
   "version": "3.6.5"
  }
 },
 "nbformat": 4,
 "nbformat_minor": 2
}
