{
 "cells": [
  {
   "cell_type": "markdown",
   "metadata": {},
   "source": [
    "Follow https://github.com/robmarkcole/HASS-data-detective/blob/master/usage/Usage%20of%20detective.ipynb\n",
    "\n",
    "Load Olis hologram data. Note that the data is not valid json as Oli has used single rather than double quotations. **JSON requires double quotes for its strings.**"
   ]
  },
  {
   "cell_type": "code",
   "execution_count": 1,
   "metadata": {},
   "outputs": [
    {
     "name": "stdout",
     "output_type": "stream",
     "text": [
      "3.6.4 |Anaconda, Inc.| (default, Jan 16 2018, 12:04:33) \n",
      "[GCC 4.2.1 Compatible Clang 4.0.1 (tags/RELEASE_401/final)]\n"
     ]
    }
   ],
   "source": [
    "# To import detective from relative folder# To im \n",
    "import json\n",
    "import os\n",
    "import sys\n",
    "print(sys.version)\n",
    "module_path = os.path.abspath(os.path.join('..'))\n",
    "if module_path not in sys.path:\n",
    "    sys.path.append(module_path)\n",
    "\n",
    "import detective.core as detective\n",
    "import detective.helpers as helpers\n",
    "import numpy as np\n",
    "import pandas as pd\n",
    "pd.options.mode.chained_assignment = None  # Suppress chained_assignment warning, default='warn'\n",
    "import seaborn as sns\n",
    "from sqlalchemy import text\n",
    "import matplotlib.pyplot as plt\n",
    "%matplotlib inline"
   ]
  },
  {
   "cell_type": "code",
   "execution_count": 2,
   "metadata": {},
   "outputs": [],
   "source": [
    "db_path = '/Users/robincole/Documents/Data/Home-Assistant/Olis_db/home-assistant_v2.db'\n",
    "DB_URL = 'sqlite:////' + db_path"
   ]
  },
  {
   "cell_type": "code",
   "execution_count": 3,
   "metadata": {},
   "outputs": [
    {
     "data": {
      "text/plain": [
       "'sqlite://///Users/robincole/Documents/Data/Home-Assistant/Olis_db/home-assistant_v2.db'"
      ]
     },
     "execution_count": 3,
     "metadata": {},
     "output_type": "execute_result"
    }
   ],
   "source": [
    "DB_URL"
   ]
  },
  {
   "cell_type": "code",
   "execution_count": 4,
   "metadata": {},
   "outputs": [
    {
     "name": "stdout",
     "output_type": "stream",
     "text": [
      "Successfully connected to database\n",
      "There are 49 entities with data\n",
      "CPU times: user 96.5 ms, sys: 127 ms, total: 224 ms\n",
      "Wall time: 711 ms\n"
     ]
    }
   ],
   "source": [
    "%%time\n",
    "db = detective.HassDatabase(DB_URL) # To init without fetching entities fetch_entities=False"
   ]
  },
  {
   "cell_type": "code",
   "execution_count": 5,
   "metadata": {},
   "outputs": [
    {
     "data": {
      "text/plain": [
       "['light',\n",
       " 'sensor',\n",
       " 'binary_sensor',\n",
       " 'group',\n",
       " 'hello',\n",
       " 'automation',\n",
       " 'device_tracker',\n",
       " 'zone',\n",
       " 'input_select',\n",
       " 'hello_world',\n",
       " 'switch',\n",
       " 'input_number',\n",
       " 'sun',\n",
       " 'persistent_notification',\n",
       " 'updater',\n",
       " 'camera']"
      ]
     },
     "execution_count": 5,
     "metadata": {},
     "output_type": "execute_result"
    }
   ],
   "source": [
    "db.domains"
   ]
  },
  {
   "cell_type": "code",
   "execution_count": 6,
   "metadata": {},
   "outputs": [
    {
     "data": {
      "text/plain": [
       "['sensor.cpu_temperature',\n",
       " 'sensor.dark_sky_temperature',\n",
       " 'sensor.dark_sky_nearest_storm_distance',\n",
       " 'sensor.dark_sky_summary',\n",
       " 'sensor.dark_sky_icon',\n",
       " 'sensor.aqm_message_time',\n",
       " 'sensor.aqm_pressure',\n",
       " 'sensor.hologram_155807',\n",
       " 'sensor.aqm_temperature',\n",
       " 'sensor.aqm_pm10',\n",
       " 'sensor.aqm_pm25',\n",
       " 'sensor.aqm_pm1',\n",
       " 'sensor.aqm_humidity',\n",
       " 'sensor.deluge_up_speed',\n",
       " 'sensor.deluge_down_speed',\n",
       " 'sensor.weather_symbol',\n",
       " 'sensor.yr_symbol',\n",
       " 'sensor.ssl_cert_expiry',\n",
       " 'sensor.deluge_status']"
      ]
     },
     "execution_count": 6,
     "metadata": {},
     "output_type": "execute_result"
    }
   ],
   "source": [
    "db.entities['sensor']"
   ]
  },
  {
   "cell_type": "code",
   "execution_count": 7,
   "metadata": {},
   "outputs": [],
   "source": [
    "query = text(\n",
    "    \"\"\"\n",
    "    SELECT state, last_changed\n",
    "    FROM states\n",
    "    WHERE entity_id in ('sensor.hologram_155807') \n",
    "    AND NOT state='unknown'\n",
    "    \"\"\"\n",
    "    )"
   ]
  },
  {
   "cell_type": "code",
   "execution_count": 8,
   "metadata": {},
   "outputs": [],
   "source": [
    "response = db.perform_query(query)"
   ]
  },
  {
   "cell_type": "code",
   "execution_count": 9,
   "metadata": {},
   "outputs": [],
   "source": [
    "hologram_155807 = response.fetchall()"
   ]
  },
  {
   "cell_type": "code",
   "execution_count": 10,
   "metadata": {},
   "outputs": [],
   "source": [
    "reading_1 = hologram_155807[0]\n",
    "reading_1_items = reading_1.items()"
   ]
  },
  {
   "cell_type": "code",
   "execution_count": 11,
   "metadata": {},
   "outputs": [
    {
     "data": {
      "text/plain": [
       "\"{'Temperature': 21.9092973805, 'PM25': 3, 'Humidity': 0, 'Pressure': 100650.718305, 'PM1': 2, 'PM10': 3}\""
      ]
     },
     "execution_count": 11,
     "metadata": {},
     "output_type": "execute_result"
    }
   ],
   "source": [
    "reading_1_data = reading_1_items[0][1]\n",
    "reading_1_data"
   ]
  },
  {
   "cell_type": "code",
   "execution_count": 12,
   "metadata": {},
   "outputs": [
    {
     "data": {
      "text/plain": [
       "str"
      ]
     },
     "execution_count": 12,
     "metadata": {},
     "output_type": "execute_result"
    }
   ],
   "source": [
    "type(reading_1_data)"
   ]
  },
  {
   "cell_type": "markdown",
   "metadata": {},
   "source": [
    "We want to parse this string into a dict. Note that it is not formatted correctly and we will get an error because of formatting, see https://stackoverflow.com/questions/39491420/python-jsonexpecting-property-name-enclosed-in-double-quotes\n",
    "\n",
    "Lets hand code the valid json"
   ]
  },
  {
   "cell_type": "code",
   "execution_count": 13,
   "metadata": {},
   "outputs": [
    {
     "data": {
      "text/plain": [
       "'{\"Temperature\": 21.9092973805, \"PM25\": 3, \"Humidity\": 0, \"Pressure\": 100650.718305, \"PM1\": 2, \"PM10\": 3}'"
      ]
     },
     "execution_count": 13,
     "metadata": {},
     "output_type": "execute_result"
    }
   ],
   "source": [
    "valid_json = \"\"\"{\"Temperature\": 21.9092973805, \"PM25\": 3, \"Humidity\": 0, \"Pressure\": 100650.718305, \"PM1\": 2, \"PM10\": 3}\"\"\"\n",
    "valid_json"
   ]
  },
  {
   "cell_type": "code",
   "execution_count": 14,
   "metadata": {},
   "outputs": [
    {
     "data": {
      "text/plain": [
       "{'Temperature': 21.9092973805,\n",
       " 'PM25': 3,\n",
       " 'Humidity': 0,\n",
       " 'Pressure': 100650.718305,\n",
       " 'PM1': 2,\n",
       " 'PM10': 3}"
      ]
     },
     "execution_count": 14,
     "metadata": {},
     "output_type": "execute_result"
    }
   ],
   "source": [
    "reading_1_data_dict = json.loads(valid_json)   \n",
    "reading_1_data_dict"
   ]
  },
  {
   "cell_type": "code",
   "execution_count": 15,
   "metadata": {},
   "outputs": [
    {
     "data": {
      "text/plain": [
       "21.9092973805"
      ]
     },
     "execution_count": 15,
     "metadata": {},
     "output_type": "execute_result"
    }
   ],
   "source": [
    "reading_1_data_dict['Temperature']"
   ]
  },
  {
   "cell_type": "code",
   "execution_count": null,
   "metadata": {},
   "outputs": [],
   "source": []
  }
 ],
 "metadata": {
  "kernelspec": {
   "display_name": "Python 3",
   "language": "python",
   "name": "python3"
  },
  "language_info": {
   "codemirror_mode": {
    "name": "ipython",
    "version": 3
   },
   "file_extension": ".py",
   "mimetype": "text/x-python",
   "name": "python",
   "nbconvert_exporter": "python",
   "pygments_lexer": "ipython3",
   "version": "3.6.4"
  }
 },
 "nbformat": 4,
 "nbformat_minor": 2
}
