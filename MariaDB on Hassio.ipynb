{
 "cells": [
  {
   "cell_type": "markdown",
   "metadata": {},
   "source": [
    "Lets connect to the MariaDB running on my Hassio using the official addon https://www.home-assistant.io/addons/mariadb/\n",
    "One issue to raise is that the [recorder](https://www.home-assistant.io/components/recorder/) is purging data older than 10 days by default. Therefore I configure my recorder to record 1 year of data:\n",
    "```yaml\n",
    "recorder:\n",
    "  db_url: !secret madia_db\n",
    "  purge_keep_days: 365\n",
    " ```"
   ]
  },
  {
   "cell_type": "code",
   "execution_count": 1,
   "metadata": {},
   "outputs": [],
   "source": [
    "# To import detective from relative folder# To im \n",
    "import os\n",
    "import sys\n",
    "import json\n",
    "module_path = os.path.abspath(os.path.join('..'))\n",
    "if module_path not in sys.path:\n",
    "    sys.path.append(module_path)\n",
    "\n",
    "import detective.core as detective\n",
    "import detective.helpers as helpers\n",
    "import numpy as np\n",
    "import pandas as pd\n",
    "pd.options.mode.chained_assignment = None  # Suppress chained_assignment warning, default='warn'\n",
    "import seaborn as sns\n",
    "from sqlalchemy import text\n",
    "import matplotlib.pyplot as plt\n",
    "%matplotlib inline"
   ]
  },
  {
   "cell_type": "code",
   "execution_count": 2,
   "metadata": {},
   "outputs": [],
   "source": [
    "credentials_file = \"/Users/robincole/desktop/hassio_mariadb_creds.json\""
   ]
  },
  {
   "cell_type": "code",
   "execution_count": 3,
   "metadata": {},
   "outputs": [],
   "source": [
    "creds = helpers.load_credentials(credentials_file)"
   ]
  },
  {
   "cell_type": "code",
   "execution_count": 4,
   "metadata": {},
   "outputs": [
    {
     "data": {
      "text/plain": [
       "dict_keys(['user', 'password'])"
      ]
     },
     "execution_count": 4,
     "metadata": {},
     "output_type": "execute_result"
    }
   ],
   "source": [
    "creds.keys()"
   ]
  },
  {
   "cell_type": "code",
   "execution_count": 5,
   "metadata": {},
   "outputs": [
    {
     "data": {
      "text/plain": [
       "'hass'"
      ]
     },
     "execution_count": 5,
     "metadata": {},
     "output_type": "execute_result"
    }
   ],
   "source": [
    "creds['user']"
   ]
  },
  {
   "cell_type": "code",
   "execution_count": 6,
   "metadata": {},
   "outputs": [],
   "source": [
    "user = creds['user']\n",
    "password = creds['password']\n",
    "SERVER_IP = '192.168.0.28'\n",
    "PORT = '3306'\n",
    "DB_NAME = 'homeassistant'\n",
    "\n",
    "DB_URL = \"mysql+pymysql://{}:{}@{}:{}/{}?charset=utf8\".format(user, password, SERVER_IP, PORT, DB_NAME)"
   ]
  },
  {
   "cell_type": "code",
   "execution_count": 7,
   "metadata": {},
   "outputs": [
    {
     "name": "stdout",
     "output_type": "stream",
     "text": [
      "Successfully connected to database\n",
      "There are 122 entities with data\n"
     ]
    }
   ],
   "source": [
    "db = detective.HassDatabase(DB_URL)"
   ]
  },
  {
   "cell_type": "code",
   "execution_count": 8,
   "metadata": {},
   "outputs": [
    {
     "data": {
      "text/plain": [
       "['binary_sensor',\n",
       " 'sun',\n",
       " 'automation',\n",
       " 'group',\n",
       " 'script',\n",
       " 'counter',\n",
       " 'device_tracker',\n",
       " 'timer',\n",
       " 'zone',\n",
       " 'input_text',\n",
       " 'switch',\n",
       " 'sensor',\n",
       " 'camera',\n",
       " 'light',\n",
       " 'updater',\n",
       " 'persistent_notification',\n",
       " 'input_boolean']"
      ]
     },
     "execution_count": 8,
     "metadata": {},
     "output_type": "execute_result"
    }
   ],
   "source": [
    "db.domains"
   ]
  },
  {
   "cell_type": "code",
   "execution_count": 10,
   "metadata": {},
   "outputs": [
    {
     "name": "stdout",
     "output_type": "stream",
     "text": [
      "Querying the database, this could take a while\n",
      "master_df created successfully.\n",
      "CPU times: user 5.53 s, sys: 572 ms, total: 6.1 s\n",
      "Wall time: 17.9 s\n"
     ]
    }
   ],
   "source": [
    "%%time\n",
    "db.fetch_all_data()"
   ]
  },
  {
   "cell_type": "code",
   "execution_count": 11,
   "metadata": {},
   "outputs": [],
   "source": [
    "sensors_num_df = detective.NumericalSensors(db.master_df)"
   ]
  },
  {
   "cell_type": "code",
   "execution_count": 13,
   "metadata": {},
   "outputs": [
    {
     "data": {
      "text/plain": [
       "['sensor.speedtest_download',\n",
       " 'sensor.time_in_bed',\n",
       " 'sensor.work_to_home',\n",
       " 'sensor.home_to_work',\n",
       " 'sensor.motion',\n",
       " 'sensor.number_of_files_motion',\n",
       " 'sensor.bayes_probability',\n",
       " 'sensor.home_to_waterloo',\n",
       " 'sensor.blink_blink_camera_percy_notifications',\n",
       " 'sensor.blink_blink_camera_percy_temperature']"
      ]
     },
     "execution_count": 13,
     "metadata": {},
     "output_type": "execute_result"
    }
   ],
   "source": [
    "sensors_num_df.entities[0:10]"
   ]
  },
  {
   "cell_type": "code",
   "execution_count": 15,
   "metadata": {},
   "outputs": [
    {
     "data": {
      "image/png": "[encoded data removed]",
      "text/plain": [
       "<Figure size 864x432 with 1 Axes>"
      ]
     },
     "metadata": {},
     "output_type": "display_data"
    }
   ],
   "source": [
    "sensors_num_df.plot(sensors_num_df.entities[5])"
   ]
  },
  {
   "cell_type": "code",
   "execution_count": null,
   "metadata": {},
   "outputs": [],
   "source": []
  }
 ],
 "metadata": {
  "kernelspec": {
   "display_name": "Python 3",
   "language": "python",
   "name": "python3"
  },
  "language_info": {
   "codemirror_mode": {
    "name": "ipython",
    "version": 3
   },
   "file_extension": ".py",
   "mimetype": "text/x-python",
   "name": "python",
   "nbconvert_exporter": "python",
   "pygments_lexer": "ipython3",
   "version": "3.6.3"
  }
 },
 "nbformat": 4,
 "nbformat_minor": 2
}
