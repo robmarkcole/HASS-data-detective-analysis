{
 "cells": [
  {
   "cell_type": "markdown",
   "metadata": {},
   "source": [
    "I put a `sqlite.db` file on a public S3 bucket, lets see if we can access it - TLDR it must be downloaded, also storage isn't free. Better to put the parsed csv somewhere public like kaggle. \n",
    "\n",
    "Interesting, it is possible to 'mount' a bucket as a filesystem https://cloud.netapp.com/blog/amazon-s3-as-a-file-system"
   ]
  },
  {
   "cell_type": "code",
   "execution_count": 2,
   "metadata": {},
   "outputs": [
    {
     "name": "stdout",
     "output_type": "stream",
     "text": [
      "Version: 1.0\n"
     ]
    }
   ],
   "source": [
    "!pip show HASS-data-detective|grep Version"
   ]
  },
  {
   "cell_type": "markdown",
   "metadata": {},
   "source": [
    "Use wget for simple file download"
   ]
  },
  {
   "cell_type": "code",
   "execution_count": 9,
   "metadata": {},
   "outputs": [],
   "source": [
    "#!pip install wget"
   ]
  },
  {
   "cell_type": "code",
   "execution_count": 3,
   "metadata": {},
   "outputs": [],
   "source": [
    "import detective.core as detective\n",
    "import pandas as pd\n",
    "%matplotlib inline\n",
    "pd.options.mode.chained_assignment = None  # Suppress chained_assignment warning, default='warn'"
   ]
  },
  {
   "cell_type": "code",
   "execution_count": 4,
   "metadata": {},
   "outputs": [],
   "source": [
    "db_url = 'https://s3.amazonaws.com/test-822e1a57-a7ab-4146-884f-aad78627e233/home-assistant_v2.db'"
   ]
  },
  {
   "cell_type": "code",
   "execution_count": 10,
   "metadata": {},
   "outputs": [],
   "source": [
    "import wget\n",
    "filename = wget.download(db_url)"
   ]
  },
  {
   "cell_type": "code",
   "execution_count": 12,
   "metadata": {},
   "outputs": [
    {
     "data": {
      "text/plain": [
       "'home-assistant_v2.db'"
      ]
     },
     "execution_count": 12,
     "metadata": {},
     "output_type": "execute_result"
    }
   ],
   "source": [
    "filename"
   ]
  },
  {
   "cell_type": "code",
   "execution_count": 13,
   "metadata": {},
   "outputs": [
    {
     "name": "stdout",
     "output_type": "stream",
     "text": [
      "Successfully connected to database sqlite:///home-assistant_v2.db\n",
      "There are 5 entities with data\n",
      "CPU times: user 6.95 ms, sys: 10.1 ms, total: 17.1 ms\n",
      "Wall time: 32.2 ms\n"
     ]
    }
   ],
   "source": [
    "%%time\n",
    "db = detective.HassDatabase('sqlite:///' + filename) "
   ]
  },
  {
   "cell_type": "code",
   "execution_count": 14,
   "metadata": {},
   "outputs": [
    {
     "data": {
      "text/plain": [
       "{'automation': ['automation.new_file_alert'],\n",
       " 'camera': ['camera.demo_camera', 'camera.local_file'],\n",
       " 'group': ['group.all_automations'],\n",
       " 'history_graph': ['history_graph.pms5003'],\n",
       " 'sensor': ['sensor.merton',\n",
       "  'sensor.particles_01um',\n",
       "  'sensor.particles_025um',\n",
       "  'sensor.particles_10um',\n",
       "  'sensor.serial_sensor']}"
      ]
     },
     "execution_count": 14,
     "metadata": {},
     "output_type": "execute_result"
    }
   ],
   "source": [
    "db.entities"
   ]
  },
  {
   "cell_type": "markdown",
   "metadata": {},
   "source": [
    "Tidy up"
   ]
  },
  {
   "cell_type": "code",
   "execution_count": 15,
   "metadata": {},
   "outputs": [],
   "source": [
    "import os\n",
    "os.remove(filename)"
   ]
  },
  {
   "cell_type": "markdown",
   "metadata": {},
   "source": [
    "In summary this is feasible, but probably we are better to upload the parsed csv files."
   ]
  },
  {
   "cell_type": "code",
   "execution_count": null,
   "metadata": {},
   "outputs": [],
   "source": []
  }
 ],
 "metadata": {
  "kernelspec": {
   "display_name": "Python 3",
   "language": "python",
   "name": "python3"
  },
  "language_info": {
   "codemirror_mode": {
    "name": "ipython",
    "version": 3
   },
   "file_extension": ".py",
   "mimetype": "text/x-python",
   "name": "python",
   "nbconvert_exporter": "python",
   "pygments_lexer": "ipython3",
   "version": "3.6.5"
  }
 },
 "nbformat": 4,
 "nbformat_minor": 2
}
